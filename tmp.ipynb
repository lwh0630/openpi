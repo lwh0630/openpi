{
 "cells": [
  {
   "cell_type": "code",
   "execution_count": 1,
   "id": "3c62a91f",
   "metadata": {},
   "outputs": [
    {
     "name": "stdout",
     "output_type": "stream",
     "text": [
      "/mnt/sda/lwh/openpi/.venv/lib/python3.11/site-packages/lerobot\n"
     ]
    }
   ],
   "source": [
    "import lerobot\n",
    "import os\n",
    "print(os.path.dirname(lerobot.__file__))"
   ]
  }
 ],
 "metadata": {
  "kernelspec": {
   "display_name": "openpi",
   "language": "python",
   "name": "python3"
  },
  "language_info": {
   "codemirror_mode": {
    "name": "ipython",
    "version": 3
   },
   "file_extension": ".py",
   "mimetype": "text/x-python",
   "name": "python",
   "nbconvert_exporter": "python",
   "pygments_lexer": "ipython3",
   "version": "3.11.13"
  }
 },
 "nbformat": 4,
 "nbformat_minor": 5
}

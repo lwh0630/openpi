{
 "cells": [
  {
   "cell_type": "code",
   "execution_count": 2,
   "id": "bd9c1905",
   "metadata": {},
   "outputs": [],
   "source": [
    "import jax\n",
    "import jax.numpy as jnp\n",
    "from rich import print\n",
    "\n",
    "from openpi.models import pi0\n",
    "from openpi.training import data_loader as _data_loader"
   ]
  },
  {
   "cell_type": "code",
   "execution_count": 5,
   "id": "3a956cf7",
   "metadata": {},
   "outputs": [
    {
     "name": "stdout",
     "output_type": "stream",
     "text": [
      "(4, 24)\n",
      "(4, 24)\n"
     ]
    }
   ],
   "source": [
    "def test_torch_data_loader():\n",
    "    config = pi0.Pi0Config(action_dim=24, action_horizon=50, max_token_len=48)\n",
    "    dataset = _data_loader.FakeDataset(config, 16)\n",
    "\n",
    "    loader = _data_loader.TorchDataLoader(\n",
    "        dataset,\n",
    "        local_batch_size=4,\n",
    "        num_batches=2,\n",
    "    )\n",
    "    batches = list(loader)\n",
    "\n",
    "    assert len(batches) == 2\n",
    "    for batch in batches:\n",
    "        assert all(x.shape[0] == 4 for x in jax.tree.leaves(batch))\n",
    "        print(batch[\"state\"].shape)\n",
    "\n",
    "\n",
    "test_torch_data_loader()"
   ]
  },
  {
   "cell_type": "code",
   "execution_count": 5,
   "id": "19e83148",
   "metadata": {},
   "outputs": [
    {
     "data": {
      "text/plain": [
       "(5, 1, 1)"
      ]
     },
     "execution_count": 5,
     "metadata": {},
     "output_type": "execute_result"
    }
   ],
   "source": [
    "x = jnp.ones(shape=(5,4,3))\n",
    "\n",
    "jnp.mean(jnp.square(x.astype(jnp.float32)), axis=(-2,-1), keepdims=True).shape"
   ]
  }
 ],
 "metadata": {
  "kernelspec": {
   "display_name": "openpi",
   "language": "python",
   "name": "python3"
  },
  "language_info": {
   "codemirror_mode": {
    "name": "ipython",
    "version": 3
   },
   "file_extension": ".py",
   "mimetype": "text/x-python",
   "name": "python",
   "nbconvert_exporter": "python",
   "pygments_lexer": "ipython3",
   "version": "3.11.13"
  }
 },
 "nbformat": 4,
 "nbformat_minor": 5
}

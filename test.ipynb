{
 "cells": [
  {
   "cell_type": "code",
   "execution_count": 2,
   "id": "bd9c1905",
   "metadata": {},
   "outputs": [],
   "source": [
    "import jax\n",
    "import jax.numpy as jnp\n",
    "from rich import print\n",
    "\n",
    "from openpi.models import pi0\n",
    "from openpi.training import data_loader as _data_loader"
   ]
  },
  {
   "cell_type": "code",
   "execution_count": 5,
   "id": "3a956cf7",
   "metadata": {},
   "outputs": [
    {
     "name": "stdout",
     "output_type": "stream",
     "text": [
      "(4, 24)\n",
      "(4, 24)\n"
     ]
    }
   ],
   "source": [
    "def test_torch_data_loader():\n",
    "    config = pi0.Pi0Config(action_dim=24, action_horizon=50, max_token_len=48)\n",
    "    dataset = _data_loader.FakeDataset(config, 16)\n",
    "\n",
    "    loader = _data_loader.TorchDataLoader(\n",
    "        dataset,\n",
    "        local_batch_size=4,\n",
    "        num_batches=2,\n",
    "    )\n",
    "    batches = list(loader)\n",
    "\n",
    "    assert len(batches) == 2\n",
    "    for batch in batches:\n",
    "        assert all(x.shape[0] == 4 for x in jax.tree.leaves(batch))\n",
    "        print(batch[\"state\"].shape)\n",
    "\n",
    "\n",
    "test_torch_data_loader()"
   ]
  },
  {
   "cell_type": "code",
   "execution_count": 5,
   "id": "19e83148",
   "metadata": {},
   "outputs": [
    {
     "data": {
      "text/plain": [
       "(5, 1, 1)"
      ]
     },
     "execution_count": 5,
     "metadata": {},
     "output_type": "execute_result"
    }
   ],
   "source": [
    "x = jnp.ones(shape=(5,4,3))\n",
    "\n",
    "jnp.mean(jnp.square(x.astype(jnp.float32)), axis=(-2,-1), keepdims=True).shape"
   ]
  },
  {
   "cell_type": "code",
   "execution_count": 1,
   "id": "8870c1af",
   "metadata": {},
   "outputs": [
    {
     "name": "stderr",
     "output_type": "stream",
     "text": [
      "2025-07-28 21:05:19.902180: E external/local_xla/xla/stream_executor/cuda/cuda_fft.cc:467] Unable to register cuFFT factory: Attempting to register factory for plugin cuFFT when one has already been registered\n",
      "WARNING: All log messages before absl::InitializeLog() is called are written to STDERR\n",
      "E0000 00:00:1753707920.049543  264816 cuda_dnn.cc:8579] Unable to register cuDNN factory: Attempting to register factory for plugin cuDNN when one has already been registered\n",
      "E0000 00:00:1753707920.091457  264816 cuda_blas.cc:1407] Unable to register cuBLAS factory: Attempting to register factory for plugin cuBLAS when one has already been registered\n",
      "W0000 00:00:1753707920.421524  264816 computation_placer.cc:177] computation placer already registered. Please check linkage and avoid linking the same target more than once.\n",
      "W0000 00:00:1753707920.421564  264816 computation_placer.cc:177] computation placer already registered. Please check linkage and avoid linking the same target more than once.\n",
      "W0000 00:00:1753707920.421566  264816 computation_placer.cc:177] computation placer already registered. Please check linkage and avoid linking the same target more than once.\n",
      "W0000 00:00:1753707920.421568  264816 computation_placer.cc:177] computation placer already registered. Please check linkage and avoid linking the same target more than once.\n"
     ]
    },
    {
     "ename": "AttributeError",
     "evalue": "'MessageFactory' object has no attribute 'GetPrototype'",
     "output_type": "error",
     "traceback": [
      "\u001b[31m---------------------------------------------------------------------------\u001b[39m",
      "\u001b[31mAttributeError\u001b[39m                            Traceback (most recent call last)",
      "\u001b[31mAttributeError\u001b[39m: 'MessageFactory' object has no attribute 'GetPrototype'"
     ]
    },
    {
     "ename": "AttributeError",
     "evalue": "'MessageFactory' object has no attribute 'GetPrototype'",
     "output_type": "error",
     "traceback": [
      "\u001b[31m---------------------------------------------------------------------------\u001b[39m",
      "\u001b[31mAttributeError\u001b[39m                            Traceback (most recent call last)",
      "\u001b[31mAttributeError\u001b[39m: 'MessageFactory' object has no attribute 'GetPrototype'"
     ]
    },
    {
     "ename": "AttributeError",
     "evalue": "'MessageFactory' object has no attribute 'GetPrototype'",
     "output_type": "error",
     "traceback": [
      "\u001b[31m---------------------------------------------------------------------------\u001b[39m",
      "\u001b[31mAttributeError\u001b[39m                            Traceback (most recent call last)",
      "\u001b[31mAttributeError\u001b[39m: 'MessageFactory' object has no attribute 'GetPrototype'"
     ]
    },
    {
     "ename": "AttributeError",
     "evalue": "'MessageFactory' object has no attribute 'GetPrototype'",
     "output_type": "error",
     "traceback": [
      "\u001b[31m---------------------------------------------------------------------------\u001b[39m",
      "\u001b[31mAttributeError\u001b[39m                            Traceback (most recent call last)",
      "\u001b[31mAttributeError\u001b[39m: 'MessageFactory' object has no attribute 'GetPrototype'"
     ]
    },
    {
     "ename": "AttributeError",
     "evalue": "'MessageFactory' object has no attribute 'GetPrototype'",
     "output_type": "error",
     "traceback": [
      "\u001b[31m---------------------------------------------------------------------------\u001b[39m",
      "\u001b[31mAttributeError\u001b[39m                            Traceback (most recent call last)",
      "\u001b[31mAttributeError\u001b[39m: 'MessageFactory' object has no attribute 'GetPrototype'"
     ]
    },
    {
     "ename": "KeyboardInterrupt",
     "evalue": "",
     "output_type": "error",
     "traceback": [
      "\u001b[31m---------------------------------------------------------------------------\u001b[39m",
      "\u001b[31mKeyboardInterrupt\u001b[39m                         Traceback (most recent call last)",
      "\u001b[36mCell\u001b[39m\u001b[36m \u001b[39m\u001b[32mIn[1]\u001b[39m\u001b[32m, line 6\u001b[39m\n\u001b[32m      3\u001b[39m \u001b[38;5;28;01mfrom\u001b[39;00m\u001b[38;5;250m \u001b[39m\u001b[34;01mopenpi\u001b[39;00m\u001b[34;01m.\u001b[39;00m\u001b[34;01mshared\u001b[39;00m\u001b[38;5;250m \u001b[39m\u001b[38;5;28;01mimport\u001b[39;00m download\n\u001b[32m      5\u001b[39m \u001b[38;5;66;03m# config = config.get_config(\"pi0_fast_droid\")\u001b[39;00m\n\u001b[32m----> \u001b[39m\u001b[32m6\u001b[39m checkpoint_dir = \u001b[43mdownload\u001b[49m\u001b[43m.\u001b[49m\u001b[43mmaybe_download\u001b[49m\u001b[43m(\u001b[49m\u001b[33;43m\"\u001b[39;49m\u001b[33;43mgs://openpi-assets/checkpoints/pi0_fast_base\u001b[39;49m\u001b[33;43m\"\u001b[39;49m\u001b[43m)\u001b[49m\n",
      "\u001b[36mFile \u001b[39m\u001b[32m/mnt/data/openpi/src/openpi/shared/download.py:91\u001b[39m, in \u001b[36mmaybe_download\u001b[39m\u001b[34m(url, force_download, **kwargs)\u001b[39m\n\u001b[32m     89\u001b[39m logger.info(\u001b[33mf\u001b[39m\u001b[33m\"\u001b[39m\u001b[33mDownloading \u001b[39m\u001b[38;5;132;01m{\u001b[39;00murl\u001b[38;5;132;01m}\u001b[39;00m\u001b[33m to \u001b[39m\u001b[38;5;132;01m{\u001b[39;00mlocal_path\u001b[38;5;132;01m}\u001b[39;00m\u001b[33m\"\u001b[39m)\n\u001b[32m     90\u001b[39m scratch_path = local_path.with_suffix(\u001b[33m\"\u001b[39m\u001b[33m.partial\u001b[39m\u001b[33m\"\u001b[39m)\n\u001b[32m---> \u001b[39m\u001b[32m91\u001b[39m \u001b[43m_download_fsspec\u001b[49m\u001b[43m(\u001b[49m\u001b[43murl\u001b[49m\u001b[43m,\u001b[49m\u001b[43m \u001b[49m\u001b[43mscratch_path\u001b[49m\u001b[43m,\u001b[49m\u001b[43m \u001b[49m\u001b[43m*\u001b[49m\u001b[43m*\u001b[49m\u001b[43mkwargs\u001b[49m\u001b[43m)\u001b[49m\n\u001b[32m     93\u001b[39m shutil.move(scratch_path, local_path)\n\u001b[32m     94\u001b[39m _ensure_permissions(local_path)\n",
      "\u001b[36mFile \u001b[39m\u001b[32m/mnt/data/openpi/src/openpi/shared/download.py:108\u001b[39m, in \u001b[36m_download_fsspec\u001b[39m\u001b[34m(url, local_path, **kwargs)\u001b[39m\n\u001b[32m    106\u001b[39m \u001b[38;5;28;01mdef\u001b[39;00m\u001b[38;5;250m \u001b[39m\u001b[34m_download_fsspec\u001b[39m(url: \u001b[38;5;28mstr\u001b[39m, local_path: pathlib.Path, **kwargs) -> \u001b[38;5;28;01mNone\u001b[39;00m:\n\u001b[32m    107\u001b[39m \u001b[38;5;250m    \u001b[39m\u001b[33;03m\"\"\"Download a file from a remote filesystem to the local cache, and return the local path.\"\"\"\u001b[39;00m\n\u001b[32m--> \u001b[39m\u001b[32m108\u001b[39m     fs, _ = \u001b[43mfsspec\u001b[49m\u001b[43m.\u001b[49m\u001b[43mcore\u001b[49m\u001b[43m.\u001b[49m\u001b[43murl_to_fs\u001b[49m\u001b[43m(\u001b[49m\u001b[43murl\u001b[49m\u001b[43m,\u001b[49m\u001b[43m \u001b[49m\u001b[43m*\u001b[49m\u001b[43m*\u001b[49m\u001b[43mkwargs\u001b[49m\u001b[43m)\u001b[49m\n\u001b[32m    109\u001b[39m     info = fs.info(url)\n\u001b[32m    110\u001b[39m     \u001b[38;5;66;03m# Folders are represented by 0-byte objects with a trailing forward slash.\u001b[39;00m\n",
      "\u001b[36mFile \u001b[39m\u001b[32m/mnt/data/openpi/.venv/lib/python3.11/site-packages/fsspec/core.py:415\u001b[39m, in \u001b[36murl_to_fs\u001b[39m\u001b[34m(url, **kwargs)\u001b[39m\n\u001b[32m    413\u001b[39m     inkwargs[\u001b[33m\"\u001b[39m\u001b[33mfo\u001b[39m\u001b[33m\"\u001b[39m] = urls\n\u001b[32m    414\u001b[39m urlpath, protocol, _ = chain[\u001b[32m0\u001b[39m]\n\u001b[32m--> \u001b[39m\u001b[32m415\u001b[39m fs = \u001b[43mfilesystem\u001b[49m\u001b[43m(\u001b[49m\u001b[43mprotocol\u001b[49m\u001b[43m,\u001b[49m\u001b[43m \u001b[49m\u001b[43m*\u001b[49m\u001b[43m*\u001b[49m\u001b[43minkwargs\u001b[49m\u001b[43m)\u001b[49m\n\u001b[32m    416\u001b[39m \u001b[38;5;28;01mreturn\u001b[39;00m fs, urlpath\n",
      "\u001b[36mFile \u001b[39m\u001b[32m/mnt/data/openpi/.venv/lib/python3.11/site-packages/fsspec/registry.py:310\u001b[39m, in \u001b[36mfilesystem\u001b[39m\u001b[34m(protocol, **storage_options)\u001b[39m\n\u001b[32m    303\u001b[39m     warnings.warn(\n\u001b[32m    304\u001b[39m         \u001b[33m\"\u001b[39m\u001b[33mThe \u001b[39m\u001b[33m'\u001b[39m\u001b[33marrow_hdfs\u001b[39m\u001b[33m'\u001b[39m\u001b[33m protocol has been deprecated and will be \u001b[39m\u001b[33m\"\u001b[39m\n\u001b[32m    305\u001b[39m         \u001b[33m\"\u001b[39m\u001b[33mremoved in the future. Specify it as \u001b[39m\u001b[33m'\u001b[39m\u001b[33mhdfs\u001b[39m\u001b[33m'\u001b[39m\u001b[33m.\u001b[39m\u001b[33m\"\u001b[39m,\n\u001b[32m    306\u001b[39m         \u001b[38;5;167;01mDeprecationWarning\u001b[39;00m,\n\u001b[32m    307\u001b[39m     )\n\u001b[32m    309\u001b[39m \u001b[38;5;28mcls\u001b[39m = get_filesystem_class(protocol)\n\u001b[32m--> \u001b[39m\u001b[32m310\u001b[39m \u001b[38;5;28;01mreturn\u001b[39;00m \u001b[38;5;28;43mcls\u001b[39;49m\u001b[43m(\u001b[49m\u001b[43m*\u001b[49m\u001b[43m*\u001b[49m\u001b[43mstorage_options\u001b[49m\u001b[43m)\u001b[49m\n",
      "\u001b[36mFile \u001b[39m\u001b[32m/mnt/data/openpi/.venv/lib/python3.11/site-packages/fsspec/spec.py:81\u001b[39m, in \u001b[36m_Cached.__call__\u001b[39m\u001b[34m(cls, *args, **kwargs)\u001b[39m\n\u001b[32m     79\u001b[39m     \u001b[38;5;28;01mreturn\u001b[39;00m \u001b[38;5;28mcls\u001b[39m._cache[token]\n\u001b[32m     80\u001b[39m \u001b[38;5;28;01melse\u001b[39;00m:\n\u001b[32m---> \u001b[39m\u001b[32m81\u001b[39m     obj = \u001b[38;5;28;43msuper\u001b[39;49m\u001b[43m(\u001b[49m\u001b[43m)\u001b[49m\u001b[43m.\u001b[49m\u001b[34;43m__call__\u001b[39;49m\u001b[43m(\u001b[49m\u001b[43m*\u001b[49m\u001b[43margs\u001b[49m\u001b[43m,\u001b[49m\u001b[43m \u001b[49m\u001b[43m*\u001b[49m\u001b[43m*\u001b[49m\u001b[43mkwargs\u001b[49m\u001b[43m)\u001b[49m\n\u001b[32m     82\u001b[39m     \u001b[38;5;66;03m# Setting _fs_token here causes some static linters to complain.\u001b[39;00m\n\u001b[32m     83\u001b[39m     obj._fs_token_ = token\n",
      "\u001b[36mFile \u001b[39m\u001b[32m/mnt/data/openpi/.venv/lib/python3.11/site-packages/gcsfs/core.py:333\u001b[39m, in \u001b[36mGCSFileSystem.__init__\u001b[39m\u001b[34m(self, project, access, token, block_size, consistency, cache_timeout, secure_serialize, check_connection, requests_timeout, requester_pays, asynchronous, session_kwargs, loop, timeout, endpoint_url, default_location, version_aware, **kwargs)\u001b[39m\n\u001b[32m    327\u001b[39m \u001b[38;5;28;01mif\u001b[39;00m check_connection:\n\u001b[32m    328\u001b[39m     warnings.warn(\n\u001b[32m    329\u001b[39m         \u001b[33m\"\u001b[39m\u001b[33mThe `check_connection` argument is deprecated and will be removed in a future release.\u001b[39m\u001b[33m\"\u001b[39m,\n\u001b[32m    330\u001b[39m         \u001b[38;5;167;01mDeprecationWarning\u001b[39;00m,\n\u001b[32m    331\u001b[39m     )\n\u001b[32m--> \u001b[39m\u001b[32m333\u001b[39m \u001b[38;5;28mself\u001b[39m.credentials = \u001b[43mGoogleCredentials\u001b[49m\u001b[43m(\u001b[49m\u001b[43mproject\u001b[49m\u001b[43m,\u001b[49m\u001b[43m \u001b[49m\u001b[43maccess\u001b[49m\u001b[43m,\u001b[49m\u001b[43m \u001b[49m\u001b[43mtoken\u001b[49m\u001b[43m)\u001b[49m\n",
      "\u001b[36mFile \u001b[39m\u001b[32m/mnt/data/openpi/.venv/lib/python3.11/site-packages/gcsfs/credentials.py:53\u001b[39m, in \u001b[36mGoogleCredentials.__init__\u001b[39m\u001b[34m(self, project, access, token, check_credentials)\u001b[39m\n\u001b[32m     51\u001b[39m \u001b[38;5;28mself\u001b[39m.lock = threading.Lock()\n\u001b[32m     52\u001b[39m \u001b[38;5;28mself\u001b[39m.token = token\n\u001b[32m---> \u001b[39m\u001b[32m53\u001b[39m \u001b[38;5;28;43mself\u001b[39;49m\u001b[43m.\u001b[49m\u001b[43mconnect\u001b[49m\u001b[43m(\u001b[49m\u001b[43mmethod\u001b[49m\u001b[43m=\u001b[49m\u001b[43mtoken\u001b[49m\u001b[43m)\u001b[49m\n\u001b[32m     55\u001b[39m \u001b[38;5;28;01mif\u001b[39;00m check_credentials:\n\u001b[32m     56\u001b[39m     warnings.warn(\n\u001b[32m     57\u001b[39m         \u001b[33m\"\u001b[39m\u001b[33mThe `check_credentials` argument is deprecated and will be removed in a future release.\u001b[39m\u001b[33m\"\u001b[39m,\n\u001b[32m     58\u001b[39m         \u001b[38;5;167;01mDeprecationWarning\u001b[39;00m,\n\u001b[32m     59\u001b[39m     )\n",
      "\u001b[36mFile \u001b[39m\u001b[32m/mnt/data/openpi/.venv/lib/python3.11/site-packages/gcsfs/credentials.py:257\u001b[39m, in \u001b[36mGoogleCredentials.connect\u001b[39m\u001b[34m(self, method)\u001b[39m\n\u001b[32m    255\u001b[39m \u001b[38;5;28;01mfor\u001b[39;00m meth \u001b[38;5;129;01min\u001b[39;00m [\u001b[33m\"\u001b[39m\u001b[33mgoogle_default\u001b[39m\u001b[33m\"\u001b[39m, \u001b[33m\"\u001b[39m\u001b[33mcache\u001b[39m\u001b[33m\"\u001b[39m, \u001b[33m\"\u001b[39m\u001b[33mcloud\u001b[39m\u001b[33m\"\u001b[39m, \u001b[33m\"\u001b[39m\u001b[33manon\u001b[39m\u001b[33m\"\u001b[39m]:\n\u001b[32m    256\u001b[39m     \u001b[38;5;28;01mtry\u001b[39;00m:\n\u001b[32m--> \u001b[39m\u001b[32m257\u001b[39m         \u001b[38;5;28;43mself\u001b[39;49m\u001b[43m.\u001b[49m\u001b[43mconnect\u001b[49m\u001b[43m(\u001b[49m\u001b[43mmethod\u001b[49m\u001b[43m=\u001b[49m\u001b[43mmeth\u001b[49m\u001b[43m)\u001b[49m\n\u001b[32m    258\u001b[39m         logger.debug(\u001b[33m\"\u001b[39m\u001b[33mConnected with method \u001b[39m\u001b[38;5;132;01m%s\u001b[39;00m\u001b[33m\"\u001b[39m, meth)\n\u001b[32m    259\u001b[39m         \u001b[38;5;28;01mbreak\u001b[39;00m\n",
      "\u001b[36mFile \u001b[39m\u001b[32m/mnt/data/openpi/.venv/lib/python3.11/site-packages/gcsfs/credentials.py:274\u001b[39m, in \u001b[36mGoogleCredentials.connect\u001b[39m\u001b[34m(self, method)\u001b[39m\n\u001b[32m    272\u001b[39m         \u001b[38;5;28;01mraise\u001b[39;00m \u001b[38;5;167;01mRuntimeError\u001b[39;00m(\u001b[33m\"\u001b[39m\u001b[33mAll connection methods have failed!\u001b[39m\u001b[33m\"\u001b[39m)\n\u001b[32m    273\u001b[39m \u001b[38;5;28;01melse\u001b[39;00m:\n\u001b[32m--> \u001b[39m\u001b[32m274\u001b[39m     \u001b[38;5;28;43mself\u001b[39;49m\u001b[43m.\u001b[49m\u001b[34;43m__getattribute__\u001b[39;49m\u001b[43m(\u001b[49m\u001b[33;43m\"\u001b[39;49m\u001b[33;43m_connect_\u001b[39;49m\u001b[33;43m\"\u001b[39;49m\u001b[43m \u001b[49m\u001b[43m+\u001b[49m\u001b[43m \u001b[49m\u001b[43mmethod\u001b[49m\u001b[43m)\u001b[49m\u001b[43m(\u001b[49m\u001b[43m)\u001b[49m\n\u001b[32m    275\u001b[39m     \u001b[38;5;28mself\u001b[39m.method = method\n",
      "\u001b[36mFile \u001b[39m\u001b[32m/mnt/data/openpi/.venv/lib/python3.11/site-packages/gcsfs/credentials.py:100\u001b[39m, in \u001b[36mGoogleCredentials._connect_cloud\u001b[39m\u001b[34m(self)\u001b[39m\n\u001b[32m     98\u001b[39m     \u001b[38;5;28;01mwith\u001b[39;00m requests.Session() \u001b[38;5;28;01mas\u001b[39;00m session:\n\u001b[32m     99\u001b[39m         req = Request(session)\n\u001b[32m--> \u001b[39m\u001b[32m100\u001b[39m         \u001b[38;5;28;43mself\u001b[39;49m\u001b[43m.\u001b[49m\u001b[43mcredentials\u001b[49m\u001b[43m.\u001b[49m\u001b[43mrefresh\u001b[49m\u001b[43m(\u001b[49m\u001b[43mreq\u001b[49m\u001b[43m)\u001b[49m\n\u001b[32m    101\u001b[39m \u001b[38;5;28;01mexcept\u001b[39;00m gauth.exceptions.RefreshError \u001b[38;5;28;01mas\u001b[39;00m error:\n\u001b[32m    102\u001b[39m     \u001b[38;5;28;01mraise\u001b[39;00m \u001b[38;5;167;01mValueError\u001b[39;00m(\u001b[33m\"\u001b[39m\u001b[33mInvalid gcloud credentials\u001b[39m\u001b[33m\"\u001b[39m) \u001b[38;5;28;01mfrom\u001b[39;00m\u001b[38;5;250m \u001b[39m\u001b[34;01merror\u001b[39;00m\n",
      "\u001b[36mFile \u001b[39m\u001b[32m/mnt/data/openpi/.venv/lib/python3.11/site-packages/google/auth/compute_engine/credentials.py:126\u001b[39m, in \u001b[36mCredentials.refresh\u001b[39m\u001b[34m(self, request)\u001b[39m\n\u001b[32m    124\u001b[39m scopes = \u001b[38;5;28mself\u001b[39m._scopes \u001b[38;5;28;01mif\u001b[39;00m \u001b[38;5;28mself\u001b[39m._scopes \u001b[38;5;129;01mis\u001b[39;00m \u001b[38;5;129;01mnot\u001b[39;00m \u001b[38;5;28;01mNone\u001b[39;00m \u001b[38;5;28;01melse\u001b[39;00m \u001b[38;5;28mself\u001b[39m._default_scopes\n\u001b[32m    125\u001b[39m \u001b[38;5;28;01mtry\u001b[39;00m:\n\u001b[32m--> \u001b[39m\u001b[32m126\u001b[39m     \u001b[38;5;28;43mself\u001b[39;49m\u001b[43m.\u001b[49m\u001b[43m_retrieve_info\u001b[49m\u001b[43m(\u001b[49m\u001b[43mrequest\u001b[49m\u001b[43m)\u001b[49m\n\u001b[32m    127\u001b[39m     \u001b[38;5;66;03m# Always fetch token with default service account email.\u001b[39;00m\n\u001b[32m    128\u001b[39m     \u001b[38;5;28mself\u001b[39m.token, \u001b[38;5;28mself\u001b[39m.expiry = _metadata.get_service_account_token(\n\u001b[32m    129\u001b[39m         request, service_account=\u001b[33m\"\u001b[39m\u001b[33mdefault\u001b[39m\u001b[33m\"\u001b[39m, scopes=scopes\n\u001b[32m    130\u001b[39m     )\n",
      "\u001b[36mFile \u001b[39m\u001b[32m/mnt/data/openpi/.venv/lib/python3.11/site-packages/google/auth/compute_engine/credentials.py:99\u001b[39m, in \u001b[36mCredentials._retrieve_info\u001b[39m\u001b[34m(self, request)\u001b[39m\n\u001b[32m     90\u001b[39m \u001b[38;5;28;01mdef\u001b[39;00m\u001b[38;5;250m \u001b[39m\u001b[34m_retrieve_info\u001b[39m(\u001b[38;5;28mself\u001b[39m, request):\n\u001b[32m     91\u001b[39m \u001b[38;5;250m    \u001b[39m\u001b[33;03m\"\"\"Retrieve information about the service account.\u001b[39;00m\n\u001b[32m     92\u001b[39m \n\u001b[32m     93\u001b[39m \u001b[33;03m    Updates the scopes and retrieves the full service account email.\u001b[39;00m\n\u001b[32m   (...)\u001b[39m\u001b[32m     97\u001b[39m \u001b[33;03m            HTTP requests.\u001b[39;00m\n\u001b[32m     98\u001b[39m \u001b[33;03m    \"\"\"\u001b[39;00m\n\u001b[32m---> \u001b[39m\u001b[32m99\u001b[39m     info = \u001b[43m_metadata\u001b[49m\u001b[43m.\u001b[49m\u001b[43mget_service_account_info\u001b[49m\u001b[43m(\u001b[49m\n\u001b[32m    100\u001b[39m \u001b[43m        \u001b[49m\u001b[43mrequest\u001b[49m\u001b[43m,\u001b[49m\u001b[43m \u001b[49m\u001b[43mservice_account\u001b[49m\u001b[43m=\u001b[49m\u001b[38;5;28;43mself\u001b[39;49m\u001b[43m.\u001b[49m\u001b[43m_service_account_email\u001b[49m\n\u001b[32m    101\u001b[39m \u001b[43m    \u001b[49m\u001b[43m)\u001b[49m\n\u001b[32m    103\u001b[39m     \u001b[38;5;28mself\u001b[39m._service_account_email = info[\u001b[33m\"\u001b[39m\u001b[33memail\u001b[39m\u001b[33m\"\u001b[39m]\n\u001b[32m    105\u001b[39m     \u001b[38;5;66;03m# Don't override scopes requested by the user.\u001b[39;00m\n",
      "\u001b[36mFile \u001b[39m\u001b[32m/mnt/data/openpi/.venv/lib/python3.11/site-packages/google/auth/compute_engine/_metadata.py:342\u001b[39m, in \u001b[36mget_service_account_info\u001b[39m\u001b[34m(request, service_account)\u001b[39m\n\u001b[32m    339\u001b[39m path = \u001b[33m\"\u001b[39m\u001b[33minstance/service-accounts/\u001b[39m\u001b[38;5;132;01m{0}\u001b[39;00m\u001b[33m/\u001b[39m\u001b[33m\"\u001b[39m.format(service_account)\n\u001b[32m    340\u001b[39m \u001b[38;5;66;03m# See https://cloud.google.com/compute/docs/metadata#aggcontents\u001b[39;00m\n\u001b[32m    341\u001b[39m \u001b[38;5;66;03m# for more on the use of 'recursive'.\u001b[39;00m\n\u001b[32m--> \u001b[39m\u001b[32m342\u001b[39m \u001b[38;5;28;01mreturn\u001b[39;00m \u001b[43mget\u001b[49m\u001b[43m(\u001b[49m\u001b[43mrequest\u001b[49m\u001b[43m,\u001b[49m\u001b[43m \u001b[49m\u001b[43mpath\u001b[49m\u001b[43m,\u001b[49m\u001b[43m \u001b[49m\u001b[43mparams\u001b[49m\u001b[43m=\u001b[49m\u001b[43m{\u001b[49m\u001b[33;43m\"\u001b[39;49m\u001b[33;43mrecursive\u001b[39;49m\u001b[33;43m\"\u001b[39;49m\u001b[43m:\u001b[49m\u001b[43m \u001b[49m\u001b[33;43m\"\u001b[39;49m\u001b[33;43mtrue\u001b[39;49m\u001b[33;43m\"\u001b[39;49m\u001b[43m}\u001b[49m\u001b[43m)\u001b[49m\n",
      "\u001b[36mFile \u001b[39m\u001b[32m/mnt/data/openpi/.venv/lib/python3.11/site-packages/google/auth/compute_engine/_metadata.py:207\u001b[39m, in \u001b[36mget\u001b[39m\u001b[34m(request, path, root, params, recursive, retry_count, headers, return_none_for_not_found_error, timeout)\u001b[39m\n\u001b[32m    205\u001b[39m backoff = ExponentialBackoff(total_attempts=retry_count)\n\u001b[32m    206\u001b[39m failure_reason = \u001b[38;5;28;01mNone\u001b[39;00m\n\u001b[32m--> \u001b[39m\u001b[32m207\u001b[39m \u001b[43m\u001b[49m\u001b[38;5;28;43;01mfor\u001b[39;49;00m\u001b[43m \u001b[49m\u001b[43mattempt\u001b[49m\u001b[43m \u001b[49m\u001b[38;5;129;43;01min\u001b[39;49;00m\u001b[43m \u001b[49m\u001b[43mbackoff\u001b[49m\u001b[43m:\u001b[49m\n\u001b[32m    208\u001b[39m \u001b[43m    \u001b[49m\u001b[38;5;28;43;01mtry\u001b[39;49;00m\u001b[43m:\u001b[49m\n\u001b[32m    209\u001b[39m \u001b[43m        \u001b[49m\u001b[43mresponse\u001b[49m\u001b[43m \u001b[49m\u001b[43m=\u001b[49m\u001b[43m \u001b[49m\u001b[43mrequest\u001b[49m\u001b[43m(\u001b[49m\n\u001b[32m    210\u001b[39m \u001b[43m            \u001b[49m\u001b[43murl\u001b[49m\u001b[43m=\u001b[49m\u001b[43murl\u001b[49m\u001b[43m,\u001b[49m\u001b[43m \u001b[49m\u001b[43mmethod\u001b[49m\u001b[43m=\u001b[49m\u001b[33;43m\"\u001b[39;49m\u001b[33;43mGET\u001b[39;49m\u001b[33;43m\"\u001b[39;49m\u001b[43m,\u001b[49m\u001b[43m \u001b[49m\u001b[43mheaders\u001b[49m\u001b[43m=\u001b[49m\u001b[43mheaders_to_use\u001b[49m\u001b[43m,\u001b[49m\u001b[43m \u001b[49m\u001b[43mtimeout\u001b[49m\u001b[43m=\u001b[49m\u001b[43mtimeout\u001b[49m\n\u001b[32m    211\u001b[39m \u001b[43m        \u001b[49m\u001b[43m)\u001b[49m\n",
      "\u001b[36mFile \u001b[39m\u001b[32m/mnt/data/openpi/.venv/lib/python3.11/site-packages/google/auth/_exponential_backoff.py:133\u001b[39m, in \u001b[36mExponentialBackoff.__next__\u001b[39m\u001b[34m(self)\u001b[39m\n\u001b[32m    129\u001b[39m     \u001b[38;5;28;01mreturn\u001b[39;00m \u001b[38;5;28mself\u001b[39m._backoff_count\n\u001b[32m    131\u001b[39m jitter = \u001b[38;5;28mself\u001b[39m._calculate_jitter()\n\u001b[32m--> \u001b[39m\u001b[32m133\u001b[39m time.sleep(jitter)\n\u001b[32m    135\u001b[39m \u001b[38;5;28mself\u001b[39m._current_wait_in_seconds *= \u001b[38;5;28mself\u001b[39m._multiplier\n\u001b[32m    136\u001b[39m \u001b[38;5;28;01mreturn\u001b[39;00m \u001b[38;5;28mself\u001b[39m._backoff_count\n",
      "\u001b[31mKeyboardInterrupt\u001b[39m: "
     ]
    }
   ],
   "source": [
    "from openpi.training import config\n",
    "from openpi.policies import policy_config\n",
    "from openpi.shared import download\n",
    "\n",
    "checkpoint_dir = download.maybe_download(\"gs://openpi-assets/checkpoints/pi0_fast_base\")"
   ]
  }
 ],
 "metadata": {
  "kernelspec": {
   "display_name": "openpi",
   "language": "python",
   "name": "python3"
  },
  "language_info": {
   "codemirror_mode": {
    "name": "ipython",
    "version": 3
   },
   "file_extension": ".py",
   "mimetype": "text/x-python",
   "name": "python",
   "nbconvert_exporter": "python",
   "pygments_lexer": "ipython3",
   "version": "3.11.13"
  }
 },
 "nbformat": 4,
 "nbformat_minor": 5
}

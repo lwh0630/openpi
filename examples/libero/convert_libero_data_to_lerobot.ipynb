{
 "cells": [
  {
   "cell_type": "code",
   "execution_count": 1,
   "id": "3c62a91f",
   "metadata": {},
   "outputs": [],
   "source": [
    "import os\n",
    "\n",
    "os.environ[\"HF_LEROBOT_HOME\"] = \"/mnt/sda/lwh/openpi/.cache\"\n",
    "\n",
    "import shutil\n",
    "\n",
    "from lerobot.common.datasets.lerobot_dataset import HF_LEROBOT_HOME\n",
    "from lerobot.common.datasets.lerobot_dataset import LeRobotDataset\n",
    "import tensorflow_datasets as tfds\n",
    "\n",
    "REPO_NAME = \"tmp/libero\"  # Name of the output dataset, also used for the Hugging Face Hub\n",
    "RAW_DATASET_NAMES = [\n",
    "    \"libero_10_no_noops\",\n",
    "    \"libero_goal_no_noops\",\n",
    "    \"libero_object_no_noops\",\n",
    "    \"libero_spatial_no_noops\",\n",
    "]  # For simplicity we will combine multiple Libero datasets into one training dataset"
   ]
  },
  {
   "cell_type": "code",
   "execution_count": 2,
   "id": "c280f59f",
   "metadata": {},
   "outputs": [],
   "source": [
    "# Clean up any existing dataset in the output directory\n",
    "output_path = HF_LEROBOT_HOME / REPO_NAME\n",
    "if output_path.exists():\n",
    "    shutil.rmtree(output_path)\n",
    "# Create LeRobot dataset, define features to store\n",
    "# OpenPi assumes that proprio is stored in `state` and actions in `action`\n",
    "# LeRobot assumes that dtype of image data is `image`\n",
    "dataset = LeRobotDataset.create(\n",
    "    repo_id=REPO_NAME,\n",
    "    robot_type=\"panda\",\n",
    "    fps=10,\n",
    "    features={\n",
    "        \"image\": {\n",
    "            \"dtype\": \"image\",\n",
    "            \"shape\": (256, 256, 3),\n",
    "            \"names\": [\"height\", \"width\", \"channel\"],\n",
    "        },\n",
    "        \"wrist_image\": {\n",
    "            \"dtype\": \"image\",\n",
    "            \"shape\": (256, 256, 3),\n",
    "            \"names\": [\"height\", \"width\", \"channel\"],\n",
    "        },\n",
    "        \"state\": {\n",
    "            \"dtype\": \"float32\",\n",
    "            \"shape\": (8,),\n",
    "            \"names\": [\"state\"],\n",
    "        },\n",
    "        \"actions\": {\n",
    "            \"dtype\": \"float32\",\n",
    "            \"shape\": (7,),\n",
    "            \"names\": [\"actions\"],\n",
    "        },\n",
    "    },\n",
    "    image_writer_threads=10,\n",
    "    image_writer_processes=5,\n",
    ")"
   ]
  },
  {
   "cell_type": "code",
   "execution_count": null,
   "id": "91ae5c64",
   "metadata": {},
   "outputs": [],
   "source": [
    "# Loop over raw Libero datasets and write episodes to the LeRobot dataset\n",
    "# You can modify this for your own data format\n",
    "data_dir = \"/mnt/sda/datasets/modified_libero_rlds\"\n",
    "for raw_dataset_name in RAW_DATASET_NAMES:\n",
    "    raw_dataset = tfds.load(raw_dataset_name, data_dir=data_dir, split=\"train\")\n",
    "    for episode in raw_dataset:\n",
    "        for step in episode[\"steps\"].as_numpy_iterator():\n",
    "            dataset.add_frame(\n",
    "                {\n",
    "                    \"image\": step[\"observation\"][\"image\"],\n",
    "                    \"wrist_image\": step[\"observation\"][\"wrist_image\"],\n",
    "                    \"state\": step[\"observation\"][\"state\"],\n",
    "                    \"actions\": step[\"action\"],\n",
    "                    \"task\": step[\"language_instruction\"].decode(),\n",
    "                }\n",
    "            )\n",
    "        dataset.save_episode()"
   ]
  }
 ],
 "metadata": {
  "kernelspec": {
   "display_name": "openpi",
   "language": "python",
   "name": "python3"
  },
  "language_info": {
   "codemirror_mode": {
    "name": "ipython",
    "version": 3
   },
   "file_extension": ".py",
   "mimetype": "text/x-python",
   "name": "python",
   "nbconvert_exporter": "python",
   "pygments_lexer": "ipython3",
   "version": "3.11.13"
  }
 },
 "nbformat": 4,
 "nbformat_minor": 5
}
